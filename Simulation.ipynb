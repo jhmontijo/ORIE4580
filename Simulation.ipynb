{
 "cells": [
  {
   "cell_type": "code",
   "execution_count": 1,
   "metadata": {},
   "outputs": [
    {
     "name": "stdout",
     "output_type": "stream",
     "text": [
      "2\n"
     ]
    }
   ],
   "source": [
    "class Van:\n",
    "    def __init__(self,id):\n",
    "        self.loc = 'dispatch'\n",
    "        self.busy = False\n",
    "        self.id = id\n",
    "class Mechanic:\n",
    "    def __init__(self,id):\n",
    "        self.loc = 'dispatch'\n",
    "        self.busy = False\n",
    "        self.id = id\n",
    "\n",
    "class Simulation:\n",
    "    def __init__(self, n_mechanics, n_vans):\n",
    "        self.mechanics = gen_mechanics()\n",
    "        self.vans = gen_vans()\n",
    "        self.requests = []\n",
    "    def gen_"
   ]
  }
 ],
 "metadata": {
  "kernelspec": {
   "display_name": "Python 3",
   "language": "python",
   "name": "python3"
  },
  "language_info": {
   "codemirror_mode": {
    "name": "ipython",
    "version": 3
   },
   "file_extension": ".py",
   "mimetype": "text/x-python",
   "name": "python",
   "nbconvert_exporter": "python",
   "pygments_lexer": "ipython3",
   "version": "3.6.8"
  }
 },
 "nbformat": 4,
 "nbformat_minor": 2
}
