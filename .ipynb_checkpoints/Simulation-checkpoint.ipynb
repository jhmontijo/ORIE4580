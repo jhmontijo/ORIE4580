{
 "cells": [
  {
   "cell_type": "code",
   "execution_count": 1,
   "metadata": {},
<<<<<<< Updated upstream
   "outputs": [
    {
     "name": "stdout",
     "output_type": "stream",
     "text": [
      "2\n"
     ]
    }
   ],
   "source": [
    "class Van:\n",
    "    def __init__(self,id):\n",
    "        self.loc = 'dispatch'\n",
    "        self.busy = False\n",
    "        self.id = id\n",
    "class Mechanic:\n",
    "    def __init__(self,id):\n",
    "        self.loc = 'dispatch'\n",
    "        self.busy = False\n",
    "        self.id = id\n",
    "\n",
    "class Simulation:\n",
    "    def __init__(self, n_mechanics, n_vans):\n",
    "        self.mechanics = gen_mechanics()\n",
    "        self.vans = gen_vans()\n",
    "        self.requests = []\n",
    "    def gen_"
=======
   "outputs": [],
   "source": []
  },
  {
   "cell_type": "code",
   "execution_count": null,
   "metadata": {},
   "outputs": [],
   "source": [
    "import scipy as sc\n",
    "\n",
    "BusinessCenters = [\"BC1\"; \"BC2\"; \"BC3\"; \"BC4\"; \"BC5\"; \"BC6\"; \"BC7\"; \"BC8\"; \"BC9\"; \"BC10\"]\n",
    "class Request:\n",
    "    def __init__(self, location, status, initialized_time, assigned_mechanic, mechanic_arrival_time,\n",
    "                 diagnose_time, assigned_van, van_arrival_time, completion_time):\n",
    "        self.location = gen_location\n",
    "        self.status = \"Waiting\"\n",
    "        self.initialized_time = initialized_time\n",
    "        self.mechanic_arrival_time = None\n",
    "        self.diagnose_time = None\n",
    "        self.assigned_mechanic = None\n",
    "        self.assigned_van = None\n",
    "        self.van_arrival_time = None\n",
    "        self.completion_time = None\n",
    "    \n",
    "    def gen_location :\n",
    "        probabilities = []\n",
    "        sc.rv_discrete()\n",
    "    \n",
    "    def gen_mechanic_travel_time :\n",
    "    \n",
    "    def gen_diagnose_time :\n",
    "    \n",
    "    def gen_repair_time :\n",
    "    \n",
    "    def gen_van_travel_time :\n",
    "        \n",
    "    def assign_mechanic (self, mechanicid) :\n",
    "        self.assigned_mechanic = mechanicid\n",
    "    \n",
    "    def assign_van (self, vanid) :\n",
    "        self.assigned_van = vanid\n",
    "    \n",
    "        \n",
    "    "
>>>>>>> Stashed changes
   ]
  }
 ],
 "metadata": {
  "kernelspec": {
   "display_name": "Python 3",
   "language": "python",
   "name": "python3"
  },
  "language_info": {
   "codemirror_mode": {
    "name": "ipython",
    "version": 3
   },
   "file_extension": ".py",
   "mimetype": "text/x-python",
   "name": "python",
   "nbconvert_exporter": "python",
   "pygments_lexer": "ipython3",
   "version": "3.7.3"
  }
 },
 "nbformat": 4,
 "nbformat_minor": 2
}
