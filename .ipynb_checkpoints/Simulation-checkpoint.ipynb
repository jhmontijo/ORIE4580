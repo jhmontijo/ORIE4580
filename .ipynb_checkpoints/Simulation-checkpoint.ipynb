{
 "cells": [
  {
   "cell_type": "markdown",
   "metadata": {},
   "source": [
    "## Input Analysis"
   ]
  },
  {
   "cell_type": "code",
   "execution_count": 1,
   "metadata": {},
   "outputs": [
    {
     "name": "stderr",
     "output_type": "stream",
     "text": [
      "/home/jackson/.local/lib/python3.6/site-packages/scipy/stats/_continuous_distns.py:515: RuntimeWarning: invalid value encountered in sqrt\n",
      "  sk = 2*(b-a)*np.sqrt(a + b + 1) / (a + b + 2) / np.sqrt(a*b)\n"
     ]
    }
   ],
   "source": [
    "import numpy as np\n",
    "import scipy.stats as st\n",
    "import pandas as pd\n",
    "import datetime as dt\n",
    "import matplotlib.pyplot as plt\n",
    "\n",
    "\n",
    "data = pd.read_csv('TonerItDown.csv')\n",
    "data = data[data['Time of day']<24]\n",
    "n = len(data)\n",
    "\n",
    "#Create rate table for Request generation\n",
    "emp_rate = data.groupby(data['Time of day'].apply(np.floor)).size() / 60\n",
    "emp_rate = emp_rate.values\n",
    "coeffs = np.polyfit(np.arange(3,22),emp_rate[3:22],deg = 2)\n",
    "fitted_rate = np.zeros(24)\n",
    "fitted_rate[3:22] = coeffs[0]*np.arange(3,22) ** 2 + coeffs[1]*np.arange(3,22) + coeffs[2]\n",
    "fitted_rate[[0,1,2,22,23]] = np.mean(emp_rate[[0,1,2,22,23]])\n",
    "rates = pd.DataFrame(data = fitted_rate,columns = ['fitted rate'])\n",
    "\n",
    "\n",
    "#Paramaters for Initial Diagnosis Time fitted to the normal distribution \n",
    "param_diagnose_a = st.norm.fit(data[data['Request location'].isin\n",
    "                         (['BC_1','BC_10','BC_4','BC_5','BC_6','BC_7','BC_8'])]['Initial diagnose time'])\n",
    "param_diagnose_b = st.norm.fit(data[data['Request location'].isin(['BC_2','BC_3','BC_9'])]\n",
    "                               ['Initial diagnose time'])\n",
    "\n",
    "\n",
    "# Paramaters for the beta distribution fit for Onsite Repair Time\n",
    "data_on_site = data['On-site repair time'][data['Needs Replacement?'] != 'yes']\n",
    "n_on_site = len(data_on_site)\n",
    "params_repair_beta = st.beta.fit(data_on_site)\n",
    "\n",
    "\n",
    "#Empirical Probabilities of a call orginating at a BC\n",
    "p_hat = data.groupby(by = 'Request location')['Initial diagnose time'].size() / n\n",
    "std = np.sqrt(p_hat * (1-p_hat))\n",
    "probabilities = p_hat.values.tolist()\n",
    "\n",
    "\n",
    "# Create Python objects from data given in problem specification\n",
    "Distances = {\n",
    "            \"BC1\":{\"BC1\": 0,\"BC2\": 20,\"BC3\": 30,\"BC4\": 45,\"BC5\": 50,\"BC6\": 50,\"BC7\": 60,\"BC8\": 55,\"BC9\": 60,\"BC10\": 70,\"Dispatch\":45},\n",
    "            \"BC2\":{\"BC2\": 0,\"BC1\": 20,\"BC3\": 10,\"BC4\": 25,\"BC5\": 30,\"BC6\": 50,\"BC7\": 60,\"BC8\": 55,\"BC9\": 60,\"BC10\": 70,\"Dispatch\": 45},\n",
    "            \"BC3\":{\"BC3\": 0,\"BC1\": 30,\"BC2\": 10,\"BC4\": 15,\"BC5\": 20,\"BC6\": 40,\"BC7\": 50,\"BC8\": 45,\"BC9\": 50,\"BC10\": 60,\"Dispatch\": 35},\n",
    "            \"BC4\":{\"BC4\": 0,\"BC1\": 45,\"BC2\": 25,\"BC3\": 15,\"BC5\": 5 ,\"BC6\": 55,\"BC7\": 65,\"BC8\": 60,\"BC9\": 65,\"BC10\": 75,\"Dispatch\": 50},\n",
    "            \"BC5\":{\"BC5\": 0,\"BC1\": 50,\"BC2\": 30,\"BC3\": 20,\"BC4\": 5 ,\"BC6\": 60,\"BC7\": 70,\"BC8\": 65,\"BC9\": 70,\"BC10\": 80,\"Dispatch\": 55},\n",
    "            \"BC6\":{\"BC6\": 0,\"BC1\": 50,\"BC2\": 50,\"BC3\": 40,\"BC4\": 55,\"BC5\": 60,\"BC7\": 10,\"BC8\": 5 ,\"BC9\": 10,\"BC10\": 20,\"Dispatch\": 25},\n",
    "            \"BC7\":{\"BC7\": 0,\"BC1\": 60,\"BC2\": 60,\"BC3\": 50,\"BC4\": 65,\"BC5\": 70,\"BC6\": 10,\"BC8\": 15,\"BC9\": 20,\"BC10\": 10,\"Dispatch\": 35},\n",
    "            \"BC8\":{\"BC8\": 0,\"BC1\": 55,\"BC2\": 55,\"BC3\": 45,\"BC4\": 60,\"BC5\": 65,\"BC6\": 5 ,\"BC7\": 15,\"BC9\": 5 ,\"BC10\": 15,\"Dispatch\": 30},\n",
    "            \"BC9\":{\"BC9\": 0,\"BC1\": 60,\"BC2\": 60,\"BC3\": 50,\"BC4\": 65,\"BC5\": 70,\"BC6\": 10,\"BC7\": 20,\"BC8\": 5 ,\"BC10\": 10,\"Dispatch\": 35},\n",
    "            \"BC10\":{\"BC10\": 0,\"BC1\":70,\"BC2\": 70,\"BC3\": 60,\"BC4\": 75,\"BC5\": 80,\"BC6\": 20,\"BC7\": 10,\"BC8\": 15,\"BC9\" : 10,\"Dispatch\": 45}}\n",
    "\n",
    "BusinessCenters = [\"BC1\", \"BC2\", \"BC3\", \"BC4\", \"BC5\", \"BC6\", \"BC7\", \"BC8\", \"BC9\", \"BC10\"]"
   ]
  },
  {
   "cell_type": "code",
   "execution_count": 2,
   "metadata": {},
   "outputs": [],
   "source": [
    "class Request:\n",
    "    def __init__(self, initialized_time):\n",
    "        \"\"\"Initialize Random location and Random interarival time for Request\"\"\"\n",
    "        self.loc = np.random.choice(BusinessCenters,1,p=probabilities)[0]\n",
    "        self.status = \"Waiting\"\n",
    "        self.initialized_time = initialized_time + dt.timedelta(minutes=\n",
    "                int(np.random.poisson((rates[rates.index == initialized_time.hour]['fitted rate'] * 60), 1)[0]))\n",
    "        self.times = [self.initialized_time]\n",
    "        self.assigned_mechanic = None\n",
    "        self.assigned_van = None\n",
    "        \n",
    "    def add_travel_time_mech(self, now) :\n",
    "        \"\"\"Time to travel from assigned mechanic's location to request's location\"\"\"\n",
    "        self.times.append(now + dt.timedelta(minutes=Distances[self.loc][self.assigned_mechanic.loc]))\n",
    "        \n",
    "    def gen_diagnose_time(self,now):\n",
    "        \"\"\"Generate Time for Mechanic to diagnose the problem...distribution dependent on BC\"\"\"\n",
    "        if self.loc in ['BC_2','BC_3','BC_9']:\n",
    "            self.times.append(now + dt.timedelta(minutes=np.random.normal(param_diagnose_b[0], param_diagnose_b[1])))\n",
    "        else: \n",
    "            self.times.append(now + dt.timedelta(minutes=np.random.normal(param_diagnose_a[0], param_diagnose_a[1])))\n",
    "        \n",
    "    def update_status(self):\n",
    "        \"\"\"Generate wether or not this can be repaired onsite\"\"\"\n",
    "        self.status = np.random.choice([\"Onsite\",\"Replace\"],1,p=[.8195, .1805])[0] # fix these probs\n",
    "          \n",
    "    def gen_onsite_repair_time(self,now):\n",
    "        \"\"\"Generate time for Mechanic to repair copier onsite from beta distribution fit\"\"\"\n",
    "        self.times.append(now + dt.timedelta(minutes = np.random.beta(params_repair_beta[0], params_repair_beta[1])))        \n",
    "\n",
    "    def add_travel_time_van(self, now) :\n",
    "        \"\"\"Time to travel from assigned van's location to request's location\"\"\"\n",
    "        self.times.append(now + dt.timedelta(minutes=Distances[self.loc][self.assigned_van.loc]))\n",
    "    \n",
    "    def gen_van_replace_time(self, now) :\n",
    "        \"\"\"Generate time for Van to replace broken copier with new one at BC\"\"\"\n",
    "        self.times.append(now + dt.timedelta(minutes= np.random.triangular(20,30,60)))\n",
    "            \n",
    "\n",
    "class Van:\n",
    "    def __init__(self, id, time):\n",
    "        \"\"\"Initialize Van with free time at start of simulation, location at Dispatch\"\"\"\n",
    "        self.loc = 'Dispatch'\n",
    "        self.busy = False\n",
    "        self.id = id\n",
    "        self.free_time = time\n",
    "        \n",
    "    def update_free_time(self, now):\n",
    "        \"\"\"Set the Van to be free in the time it takes from now to return from dispatch and load a new copier\"\"\"\n",
    "        self.free_time = now + dt.timedelta(minutes= Distances[self.loc]['Dispatch']) +dt.timedelta(\n",
    "                                            minutes= np.random.triangular(10,15,25)) \n",
    "                             \n",
    "class Mechanic:\n",
    "    def __init__(self, id, time):\n",
    "        \"\"\"Initialize Mechanic with free time at start of simulation, location at Dispatch\"\"\"\n",
    "        self.loc = 'Dispatch'\n",
    "        self.busy = False\n",
    "        self.id = id\n",
    "        self.free_time = time"
   ]
  },
  {
   "cell_type": "code",
   "execution_count": 3,
   "metadata": {},
   "outputs": [],
   "source": [
    "def get_worker(workers, loc, time):\n",
    "    \"\"\"\n",
    "    If there are free workers, return the closest, otherwise \n",
    "    return the next available and the time they are available\n",
    "    \"\"\"\n",
    "    a = []\n",
    "    w = workers[0]\n",
    "    d = Distances[loc][w.loc]\n",
    "    delay = None\n",
    "    for worker in workers: \n",
    "        if(worker.free_time < time): a.append(worker)    #Get all free workers\n",
    "    if(a):                                               #If there is a free worker\n",
    "        for worker in a:\n",
    "            new_d = Distances[loc][worker.loc]\n",
    "            if(new_d < d): w, d = worker, new_d          # Find the closest\n",
    "    else: \n",
    "        for worker in workers:\n",
    "            if(worker.free_time <= w.free_time):          # Else get the next free\n",
    "                w = worker\n",
    "                delay = worker.free_time\n",
    "    return w, delay\n",
    "\n",
    "def simulate(n_mech, n_van, n_reqs):\n",
    "    \"\"\"\n",
    "    Run Simulaton with n_mech mechanics and n_van vans and n_req requests, return dataframes for both\n",
    "    repair times and replace time\n",
    "    \"\"\"\n",
    "    time = dt.datetime.now()\n",
    "    sim_list, mechanics, vans = [], [], []\n",
    "    for m in range(0, n_mech): \n",
    "        mechanics.append(Mechanic(m, time))\n",
    "    for v in range(0, n_van): \n",
    "        vans.append(Van(v, time))\n",
    "    for s in range(0, n_reqs):\n",
    "        sim_list.append(Request(time))\n",
    "        time = sim_list[-1].initialized_time\n",
    "\n",
    "    for req in sim_list:\n",
    "        time = req.initialized_time\n",
    "        req.assigned_mechanic, delay = get_worker(mechanics, req.loc, time) #Closest or Next Available\n",
    "        if delay is not None: time = delay                    #If none available, set time to next available\n",
    "        req.add_travel_time_mech(time)                        # Mech location -> BC\n",
    "        req.assigned_mechanic.loc = req.loc                   # Assign mechanic his new location\n",
    "        time = req.times[-1]                                  # Update Time\n",
    "        req.gen_diagnose_time(time)\n",
    "        time = req.times[-1]\n",
    "        req.update_status()\n",
    "        if(req.status == \"Onsite\"):\n",
    "            req.gen_onsite_repair_time(time)\n",
    "            req.assigned_mechanic.free_time = req.times[-1]\n",
    "        else:\n",
    "            req.assigned_van, delay = get_worker(vans, req.loc, time)\n",
    "            if delay is not None: time = delay\n",
    "            req.add_travel_time_van(time)\n",
    "            req.assigned_van.loc = req.loc\n",
    "            time = req.times[-1]\n",
    "            req.gen_van_replace_time(time)\n",
    "            time = req.times[-1]\n",
    "            req.assigned_van.update_free_time(time)\n",
    "            req.assigned_van.loc = 'Dispatch'\n",
    "\n",
    "    df = pd.DataFrame([y.times for y in sim_list])\n",
    "    df[['n_mechanics', 'n_vans', 'Response']] = pd.DataFrame([n_mech, n_van, df[1]-df[0]], index=df.index)\n",
    "    df['Status'] = pd.DataFrame([y.status for y in sim_list])\n",
    "    df_replace = df[df['Status'] == 'Replace']\n",
    "    df_replace['Replace'] = df_replace[3] - df_replace[0]\n",
    "    return df, df_replace"
   ]
  },
  {
   "cell_type": "code",
   "execution_count": 4,
   "metadata": {},
   "outputs": [
    {
     "name": "stderr",
     "output_type": "stream",
     "text": [
      "/home/jackson/.local/lib/python3.6/site-packages/ipykernel_launcher.py:60: SettingWithCopyWarning: \n",
      "A value is trying to be set on a copy of a slice from a DataFrame.\n",
      "Try using .loc[row_indexer,col_indexer] = value instead\n",
      "\n",
      "See the caveats in the documentation: http://pandas.pydata.org/pandas-docs/stable/user_guide/indexing.html#returning-a-view-versus-a-copy\n"
     ]
    }
   ],
   "source": [
    "max_m, max_v, num_reqs = 10, 10, 500\n",
    "\n",
    "\n",
    "response_times, replace_times = [], []\n",
    "m = 1\n",
    "while(m <= max_m):\n",
    "    v =1\n",
    "    while(v <= max_v):\n",
    "        df, df_replace = simulate(m, v, num_reqs)\n",
    "        response_times.append([m, v, df['Response'].mean().total_seconds()/60])\n",
    "        replace_times.append([m, v, df_replace['Replace'].mean().total_seconds()/60])\n",
    "        v += 1\n",
    "    m += 1\n",
    "response = pd.DataFrame(response_times, columns=['Mechanics', 'Vans', 'Response_Time'])\n",
    "replace = pd.DataFrame(replace_times, columns=['Mechanics', 'Vans', 'Replace_Time'])"
   ]
  },
  {
   "cell_type": "code",
   "execution_count": 9,
   "metadata": {},
   "outputs": [
    {
     "data": {
      "image/png": "[encoded data removed]",
      "text/plain": [
       "<Figure size 432x288 with 1 Axes>"
      ]
     },
     "metadata": {
      "needs_background": "light"
     },
     "output_type": "display_data"
    }
   ],
   "source": [
    "response[response['Mechanics'] < 10].plot(kind='scatter', x='Mechanics', y='Response_Time')\n",
    "plt.show()"
   ]
  },
  {
   "cell_type": "code",
   "execution_count": 21,
   "metadata": {},
   "outputs": [
    {
     "data": {
      "text/plain": [
       "<matplotlib.axes._subplots.AxesSubplot at 0x7fa9ebe04518>"
      ]
     },
     "execution_count": 21,
     "metadata": {},
     "output_type": "execute_result"
    },
    {
     "data": {
      "image/png": "[encoded data removed]",
      "text/plain": [
       "<Figure size 432x288 with 1 Axes>"
      ]
     },
     "metadata": {
      "needs_background": "light"
     },
     "output_type": "display_data"
    }
   ],
   "source": [
    "#grouped = replace[replace['Vans'] < 10].groupby(\"Vans\")\n",
    "#grouped['Replace_Time'].plot.hist()\n",
    "replace[replace['Vans'] < 10].plot(kind='scatter', x='Vans', y='Replace_Time')"
   ]
  }
 ],
 "metadata": {
  "kernelspec": {
   "display_name": "Python 3",
   "language": "python",
   "name": "python3"
  },
  "language_info": {
   "codemirror_mode": {
    "name": "ipython",
    "version": 3
   },
   "file_extension": ".py",
   "mimetype": "text/x-python",
   "name": "python",
   "nbconvert_exporter": "python",
   "pygments_lexer": "ipython3",
   "version": "3.6.8"
  }
 },
 "nbformat": 4,
 "nbformat_minor": 2
}
